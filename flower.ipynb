{
  "nbformat": 4,
  "nbformat_minor": 0,
  "metadata": {
    "colab": {
      "provenance": [],
      "authorship_tag": "ABX9TyPAgtqoAKvAu7KHkA6Ib6o5",
      "include_colab_link": true
    },
    "kernelspec": {
      "name": "python3",
      "display_name": "Python 3"
    },
    "language_info": {
      "name": "python"
    }
  },
  "cells": [
    {
      "cell_type": "markdown",
      "metadata": {
        "id": "view-in-github",
        "colab_type": "text"
      },
      "source": [
        "<a href=\"https://colab.research.google.com/github/malh718/flower_circle/blob/main/flower.ipynb\" target=\"_parent\"><img src=\"https://colab.research.google.com/assets/colab-badge.svg\" alt=\"Open In Colab\"/></a>"
      ]
    },
    {
      "cell_type": "code",
      "execution_count": 1,
      "metadata": {
        "colab": {
          "base_uri": "https://localhost:8080/",
          "height": 417
        },
        "id": "mYdWsuoxl0ev",
        "outputId": "d6676a72-e2db-47db-fa77-5da869b19918"
      },
      "outputs": [
        {
          "output_type": "execute_result",
          "data": {
            "image/png": "[encoded data removed]",
            "text/plain": [
              "<IPython.core.display.Image object>"
            ]
          },
          "metadata": {},
          "execution_count": 1
        }
      ],
      "source": [
        "from PIL import Image, ImageDraw\n",
        "\n",
        "# Create a new image with a white background\n",
        "width, height = 400, 400\n",
        "image = Image.new(\"RGB\", (width, height), \"white\")\n",
        "draw = ImageDraw.Draw(image)\n",
        "\n",
        "# Draw a pink flower\n",
        "draw.ellipse((150, 100, 250, 200), fill=\"pink\", outline=\"green\")  # Flower petals\n",
        "draw.ellipse((190, 100, 210, 120), fill=\"yellow\")  # Flower center\n",
        "\n",
        "# Save the image\n",
        "image.save(\"flower.png\")\n",
        "\n",
        "# Display the image in Google Colab\n",
        "from IPython.display import Image\n",
        "Image(filename=\"flower.png\")"
      ]
    },
    {
      "cell_type": "code",
      "source": [
        "from PIL import Image, ImageDraw\n",
        "\n",
        "# Create a new image with a white background\n",
        "width, height = 400, 400\n",
        "image = Image.new(\"RGB\", (width, height), \"white\")\n",
        "draw = ImageDraw.Draw(image)\n",
        "\n",
        "# Draw a cute flower\n",
        "draw.ellipse((150, 100, 250, 200), fill=\"pink\", outline=\"green\")  # Flower center\n",
        "for _ in range(10):\n",
        "   draw.ellipse((140, 50, 260, 170), fill=\"pink\", outline=\"green\")\n",
        "\n",
        "\n",
        "# Save the image\n",
        "image.save(\"cute_flower.png\")\n",
        "\n",
        "# Display the image in Google Colab\n",
        "from IPython.display import Image\n",
        "Image(filename=\"cute_flower.png\")"
      ],
      "metadata": {
        "colab": {
          "base_uri": "https://localhost:8080/",
          "height": 417
        },
        "id": "e8UEKWZkmIVI",
        "outputId": "0ec957a0-41d8-4e08-fbd2-ddffc64c2eb9"
      },
      "execution_count": 3,
      "outputs": [
        {
          "output_type": "execute_result",
          "data": {
            "image/png": "[encoded data removed]",
            "text/plain": [
              "<IPython.core.display.Image object>"
            ]
          },
          "metadata": {},
          "execution_count": 3
        }
      ]
    },
    {
      "cell_type": "code",
      "source": [
        "from PIL import Image, ImageDraw\n",
        "\n",
        "# Create a new image with a blue sky background\n",
        "width, height = 400, 400\n",
        "image = Image.new(\"RGB\", (width, height), \"lightblue\")\n",
        "draw = ImageDraw.Draw(image)\n",
        "\n",
        "# Draw a yellow sun\n",
        "draw.ellipse((300, 50, 350, 100), fill=\"yellow\")\n",
        "\n",
        "# Draw a red rose\n",
        "draw.polygon([(190, 250), (200, 150), (210, 250)], fill=\"green\")  # Stem\n",
        "draw.ellipse((175, 100, 225, 150), fill=\"red\")  # Rose petals\n",
        "\n",
        "# Save the image\n",
        "image.save(\"rose_and_sun.png\")\n",
        "\n",
        "# Display the image in Google Colab\n",
        "from IPython.display import Image\n",
        "Image(filename=\"rose_and_sun.png\")"
      ],
      "metadata": {
        "colab": {
          "base_uri": "https://localhost:8080/",
          "height": 417
        },
        "id": "kiO2RlaUmOUS",
        "outputId": "b86ac560-63e7-4903-9275-6f4dd45a3e92"
      },
      "execution_count": 4,
      "outputs": [
        {
          "output_type": "execute_result",
          "data": {
            "image/png": "[encoded data removed]",
            "text/plain": [
              "<IPython.core.display.Image object>"
            ]
          },
          "metadata": {},
          "execution_count": 4
        }
      ]
    }
  ]
}